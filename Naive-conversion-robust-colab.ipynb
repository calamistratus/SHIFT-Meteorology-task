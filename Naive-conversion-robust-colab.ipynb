{
  "cells": [
    {
      "cell_type": "markdown",
      "metadata": {
        "id": "view-in-github",
        "colab_type": "text"
      },
      "source": [
        "<a href=\"https://colab.research.google.com/github/calamistratus/SHIFT-Meteorology-task/blob/main/naive_conversion_dirty.ipynb\" target=\"_parent\"><img src=\"https://colab.research.google.com/assets/colab-badge.svg\" alt=\"Open In Colab\"/></a>"
      ]
    },
    {
      "cell_type": "code",
      "execution_count": 1,
      "id": "d3dc8382-f664-4ba3-8050-03d798de4158",
      "metadata": {
        "id": "d3dc8382-f664-4ba3-8050-03d798de4158"
      },
      "outputs": [],
      "source": [
        "import requests\n",
        "import numpy as np\n",
        "import json\n",
        "import pandas as pd"
      ]
    },
    {
      "cell_type": "code",
      "execution_count": 2,
      "id": "920abd6c-e877-4ddc-8bc2-54cb7e724494",
      "metadata": {
        "id": "920abd6c-e877-4ddc-8bc2-54cb7e724494"
      },
      "outputs": [],
      "source": [
        "url = (\n",
        "    'https://api.open-meteo.com/v1/forecast'\n",
        "    '?latitude=55.0344'\n",
        "    '&longitude=82.9434'\n",
        "    '&daily=sunrise,sunset,daylight_duration'\n",
        "    '&hourly=temperature_2m,relative_humidity_2m,dew_point_2m,apparent_temperature,temperature_80m,temperature_120m,wind_speed_10m,wind_speed_80m,wind_direction_10m,wind_direction_80m,visibility,evapotranspiration,weather_code,soil_temperature_0cm,soil_temperature_6cm,rain,showers,snowfall'\n",
        "    '&timezone=auto'\n",
        "    '&timeformat=unixtime'\n",
        "    '&wind_speed_unit=kn'\n",
        "    '&temperature_unit=fahrenheit'\n",
        "    '&precipitation_unit=inch'\n",
        "    '&start_date=2025-05-16'\n",
        "    '&end_date=2025-05-30'\n",
        ")"
      ]
    },
    {
      "cell_type": "code",
      "execution_count": 3,
      "id": "b6af436e-fe8b-48f4-8174-ef49ee6d14c3",
      "metadata": {
        "colab": {
          "base_uri": "https://localhost:8080/"
        },
        "id": "b6af436e-fe8b-48f4-8174-ef49ee6d14c3",
        "outputId": "cb547baa-5c93-407c-ef80-f254756d79ab"
      },
      "outputs": [
        {
          "output_type": "stream",
          "name": "stdout",
          "text": [
            "Success!\n"
          ]
        }
      ],
      "source": [
        "responce = requests.get(url)\n",
        "print('Success!' if responce.status_code == 200 else 'Something went wrong')"
      ]
    },
    {
      "cell_type": "code",
      "execution_count": 4,
      "id": "58707f42-705c-4c3e-9588-4a3271f42b2a",
      "metadata": {
        "id": "58707f42-705c-4c3e-9588-4a3271f42b2a"
      },
      "outputs": [],
      "source": [
        "data = responce.json()"
      ]
    },
    {
      "cell_type": "code",
      "execution_count": 5,
      "id": "cadbd6cb-a32d-4bf0-97ee-084801156b55",
      "metadata": {
        "id": "cadbd6cb-a32d-4bf0-97ee-084801156b55"
      },
      "outputs": [],
      "source": [
        "hourly_data = pd.DataFrame(data['hourly'])\n",
        "\n",
        "hourly_data['day_index'] = hourly_data.index // 24\n",
        "hourly_data['sunset'] = hourly_data['day_index'].map(lambda x: data['daily']['sunset'][x])\n",
        "hourly_data['sunrise'] = hourly_data['day_index'].map(lambda x: data['daily']['sunrise'][x])\n",
        "hourly_data['is_daylight'] = (hourly_data['time'] >= hourly_data['sunrise']) & (hourly_data['time'] <= hourly_data['sunset'])"
      ]
    },
    {
      "cell_type": "code",
      "execution_count": 6,
      "id": "7a11f60e-faa1-460a-929d-412c74203d54",
      "metadata": {
        "id": "7a11f60e-faa1-460a-929d-412c74203d54"
      },
      "outputs": [],
      "source": [
        "def hmean(col):\n",
        "    return hourly_data.groupby('day_index').mean()[col]\n",
        "\n",
        "def hsum(col):\n",
        "    return hourly_data.groupby('day_index').sum()[col]\n",
        "\n",
        "def dhmean(col, fil = 'is_daylight'):\n",
        "    return hourly_data[[col, 'day_index']][hourly_data[fil]].groupby('day_index').mean()[col]\n",
        "\n",
        "def dhsum(col, fil='is_daylight'):\n",
        "    return hourly_data[[col, 'day_index']][hourly_data[fil]].groupby('day_index').sum()[col]"
      ]
    },
    {
      "cell_type": "code",
      "execution_count": 7,
      "id": "e3f6c4da-dc89-4767-9d30-7f39680afc75",
      "metadata": {
        "id": "e3f6c4da-dc89-4767-9d30-7f39680afc75"
      },
      "outputs": [],
      "source": [
        "digits_round = 3\n",
        "\n",
        "def convert_to_days(col):\n",
        "    new_list = []\n",
        "    for i in range(0, len(col), 24):\n",
        "        new_list.append(col[i:i+24].round(digits_round))\n",
        "    return new_list\n",
        "\n",
        "def knots_to_meters_per_sec(knots):\n",
        "    return knots * 0.5144444444\n",
        "\n",
        "def fahrenheit_to_celsius(fahrenheit):\n",
        "    return (fahrenheit - 32) * 5 / 9\n",
        "\n",
        "def inches_to_mms(inches):\n",
        "    return inches * 25.4\n",
        "\n",
        "def feet_to_m(feet):\n",
        "    return feet * 0.3048"
      ]
    },
    {
      "cell_type": "code",
      "execution_count": 8,
      "id": "eb405c21-541b-4f2a-aee8-d5d1fab82756",
      "metadata": {
        "colab": {
          "base_uri": "https://localhost:8080/"
        },
        "id": "eb405c21-541b-4f2a-aee8-d5d1fab82756",
        "outputId": "65a7fc1b-910c-4308-e680-887ca0924521"
      },
      "outputs": [
        {
          "output_type": "stream",
          "name": "stdout",
          "text": [
            "time                      0\n",
            "temperature_2m            0\n",
            "relative_humidity_2m      0\n",
            "dew_point_2m              0\n",
            "apparent_temperature      0\n",
            "temperature_80m           0\n",
            "temperature_120m          0\n",
            "wind_speed_10m            0\n",
            "wind_speed_80m            0\n",
            "wind_direction_10m        0\n",
            "wind_direction_80m        0\n",
            "visibility                0\n",
            "evapotranspiration        0\n",
            "weather_code              0\n",
            "soil_temperature_0cm    138\n",
            "soil_temperature_6cm    138\n",
            "rain                      0\n",
            "showers                   0\n",
            "snowfall                  0\n",
            "day_index                 0\n",
            "sunset                    0\n",
            "sunrise                   0\n",
            "is_daylight               0\n",
            "dtype: int64\n",
            "\n",
            "NaNs will be replaced by a value of absolute zero in Celsius\n"
          ]
        }
      ],
      "source": [
        "print(hourly_data.isnull().sum())\n",
        "print('\\nNaNs will be replaced by a value of absolute zero in Celsius')\n",
        "\n",
        "absolute_zero = -273.15"
      ]
    },
    {
      "cell_type": "code",
      "execution_count": 9,
      "id": "6aa818bf-83fc-4f95-96c9-ef1bfa43e20f",
      "metadata": {
        "id": "6aa818bf-83fc-4f95-96c9-ef1bfa43e20f"
      },
      "outputs": [],
      "source": [
        "# avgs\n",
        "    # percentage\n",
        "avg_relative_humidity_2m_24h = hmean('relative_humidity_2m')\n",
        "    #temps (C)\n",
        "avg_dew_point_2m_24h = fahrenheit_to_celsius(hmean('dew_point_2m'))\n",
        "avg_apparent_temperature_24h = fahrenheit_to_celsius(hmean('apparent_temperature'))\n",
        "avg_temperature_2m_24h = fahrenheit_to_celsius(hmean('temperature_2m'))\n",
        "avg_temperature_80m_24h = fahrenheit_to_celsius(hmean('temperature_80m'))\n",
        "avg_temperature_120m_24h = fahrenheit_to_celsius(hmean('temperature_120m'))\n",
        "    # speed (m/s)\n",
        "avg_wind_speed_10m_24h = knots_to_meters_per_sec(hmean('wind_speed_10m'))\n",
        "avg_wind_speed_80m_24h = knots_to_meters_per_sec(hmean('wind_speed_80m'))\n",
        "    # meters\n",
        "avg_visibility_24h = feet_to_m(hmean('visibility'))\n",
        "# sums\n",
        "    # water (mm)\n",
        "total_rain_24h = inches_to_mms(hsum('rain'))\n",
        "total_showers_24h = inches_to_mms(hsum('showers'))\n",
        "total_snowfall_24h = inches_to_mms(hsum('snowfall'))"
      ]
    },
    {
      "cell_type": "code",
      "execution_count": 10,
      "id": "fe403a11-ac5a-45e1-aa87-609494c7e4b3",
      "metadata": {
        "id": "fe403a11-ac5a-45e1-aa87-609494c7e4b3"
      },
      "outputs": [],
      "source": [
        "# daylight\n",
        "    # hours\n",
        "daylight_hours = (pd.Series(data['daily']['sunset']) - np.array(data['daily']['sunrise'])) / 3600\n",
        "#avgs\n",
        "    # percentage\n",
        "avg_relative_humidity_2m_daylight = dhmean('relative_humidity_2m')\n",
        "    # temps (C)\n",
        "avg_dew_point_2m_daylight = fahrenheit_to_celsius(dhmean('dew_point_2m'))\n",
        "avg_apparent_temperature_daylight = fahrenheit_to_celsius(dhmean('apparent_temperature'))\n",
        "avg_temperature_2m_daylight = fahrenheit_to_celsius(dhmean('temperature_2m'))\n",
        "avg_temperature_80m_daylight = fahrenheit_to_celsius(dhmean('temperature_80m'))\n",
        "avg_temperature_120m_daylight = fahrenheit_to_celsius(dhmean('temperature_120m'))\n",
        "    # meters\n",
        "avg_visibility_daylight = feet_to_m(dhmean('visibility'))\n",
        "    # speed (m/s)\n",
        "avg_wind_speed_10m_daylight = knots_to_meters_per_sec(dhmean('wind_speed_10m'))\n",
        "avg_wind_speed_80m_daylight = knots_to_meters_per_sec(dhmean('wind_speed_80m'))\n",
        "# sums\n",
        "    # water (mm)\n",
        "total_rain_daylight = inches_to_mms(dhsum('rain'))\n",
        "total_showers_daylight = inches_to_mms(dhsum('showers'))\n",
        "total_snowfall_daylight = inches_to_mms(dhsum('snowfall'))"
      ]
    },
    {
      "cell_type": "code",
      "execution_count": 11,
      "id": "df265dfd-a11f-4989-b6f4-8fd73a6be19e",
      "metadata": {
        "id": "df265dfd-a11f-4989-b6f4-8fd73a6be19e"
      },
      "outputs": [],
      "source": [
        "#conversions (into an array of (15, 25))\n",
        "    # speed (m/s)\n",
        "wind_speed_10m_m_per_s = convert_to_days(hourly_data['wind_speed_10m'].apply(knots_to_meters_per_sec))\n",
        "wind_speed_80m_m_per_s = convert_to_days(hourly_data['wind_speed_80m'].apply(knots_to_meters_per_sec))\n",
        "    # temps (C)\n",
        "temperature_2m_celsius = convert_to_days(hourly_data['temperature_2m'].apply(fahrenheit_to_celsius))\n",
        "apparent_temperature_celsius = convert_to_days(hourly_data['apparent_temperature'].apply(fahrenheit_to_celsius))\n",
        "temperature_80m_celsius = convert_to_days(hourly_data['temperature_80m'].apply(fahrenheit_to_celsius))\n",
        "temperature_120m_celsius = convert_to_days(hourly_data['temperature_120m'].apply(fahrenheit_to_celsius))\n",
        "soil_temperature_0cm_celsius = convert_to_days(hourly_data['soil_temperature_0cm'].apply(fahrenheit_to_celsius).fillna(absolute_zero))\n",
        "soil_temperature_6cm_celsius = convert_to_days(hourly_data['soil_temperature_6cm'].apply(fahrenheit_to_celsius).fillna(absolute_zero))\n",
        "    # water (mm)\n",
        "rain_mm = convert_to_days(hourly_data['rain'].apply(inches_to_mms))\n",
        "showers_mm = convert_to_days(hourly_data['showers'].apply(inches_to_mms))\n",
        "snowfall_mm = convert_to_days(hourly_data['snowfall'].apply(inches_to_mms))\n",
        "    # time (ISO 8601)\n",
        "sunset_iso = pd.to_datetime(pd.Series(data['daily']['sunset']), unit='s', origin='unix').apply(lambda x: x.tz_localize(data['timezone']).isoformat())\n",
        "sunrise_iso = pd.to_datetime(pd.Series(data['daily']['sunrise']), unit='s', origin='unix').apply(lambda x: x.tz_localize(data['timezone']).isoformat())"
      ]
    },
    {
      "cell_type": "code",
      "execution_count": 12,
      "id": "8fcc2a63-5604-4757-b7b8-c3e8be60db93",
      "metadata": {
        "id": "8fcc2a63-5604-4757-b7b8-c3e8be60db93"
      },
      "outputs": [],
      "source": [
        "data_dict = {\n",
        "    # simple metrics per day\n",
        "        # avgs\n",
        "    \"avg_relative_humidity_2m_24h\": avg_relative_humidity_2m_24h,\n",
        "    \"avg_dew_point_2m_24h\": avg_dew_point_2m_24h,\n",
        "    \"avg_apparent_temperature_24h\": avg_apparent_temperature_24h,\n",
        "    \"avg_temperature_2m_24h\": avg_temperature_2m_24h,\n",
        "    \"avg_temperature_80m_24h\": avg_temperature_80m_24h,\n",
        "    \"avg_temperature_120m_24h\": avg_temperature_120m_24h,\n",
        "    \"avg_wind_speed_10m_24h\": avg_wind_speed_10m_24h,\n",
        "    \"avg_wind_speed_80m_24h\": avg_wind_speed_80m_24h,\n",
        "    \"avg_visibility_24h\": avg_visibility_24h,\n",
        "        #sums\n",
        "    \"total_rain_24h\": total_rain_24h,\n",
        "    \"total_showers_24h\": total_showers_24h,\n",
        "    \"total_snowfall_24h\": total_snowfall_24h,\n",
        "\n",
        "    # simple metrics per day during daylight\n",
        "    \"daylight_hours\": daylight_hours,\n",
        "        #avgs\n",
        "    \"avg_relative_humidity_2m_daylight\": avg_relative_humidity_2m_daylight,\n",
        "    \"avg_dew_point_2m_daylight\": avg_dew_point_2m_daylight,\n",
        "    \"avg_apparent_temperature_daylight\": avg_apparent_temperature_daylight,\n",
        "    \"avg_temperature_2m_daylight\": avg_temperature_2m_daylight,\n",
        "    \"avg_temperature_80m_daylight\": avg_temperature_80m_daylight,\n",
        "    \"avg_temperature_120m_daylight\": avg_temperature_120m_daylight,\n",
        "    \"avg_visibility_daylight\": avg_visibility_daylight,\n",
        "    \"avg_wind_speed_10m_daylight\": avg_wind_speed_10m_daylight,\n",
        "    \"avg_wind_speed_80m_daylight\": avg_wind_speed_80m_daylight,\n",
        "        #sums\n",
        "    \"total_rain_daylight\": total_rain_daylight,\n",
        "    \"total_showers_daylight\": total_showers_daylight,\n",
        "    \"total_snowfall_daylight\": total_snowfall_daylight,\n",
        "\n",
        "    # converted hourly metrics\n",
        "        # speed\n",
        "    \"wind_speed_10m_m_per_s\": wind_speed_10m_m_per_s,\n",
        "    \"wind_speed_80m_m_per_s\": wind_speed_80m_m_per_s,\n",
        "        # temp\n",
        "    \"temperature_2m_celsius\": temperature_2m_celsius,\n",
        "    \"apparent_temperature_celsius\": apparent_temperature_celsius,\n",
        "    \"temperature_80m_celsius\": temperature_80m_celsius,\n",
        "    \"temperature_120m_celsius\": temperature_120m_celsius,\n",
        "    \"soil_temperature_0cm_celsius\": soil_temperature_0cm_celsius,\n",
        "    \"soil_temperature_6cm_celsius\": soil_temperature_6cm_celsius,\n",
        "        # water\n",
        "    \"rain_mm\": rain_mm,\n",
        "    \"showers_mm\": showers_mm,\n",
        "    \"snowfall_mm\": snowfall_mm,\n",
        "\n",
        "    # ISO dates\n",
        "    \"sunset_iso\": sunset_iso,\n",
        "    \"sunrise_iso\": sunrise_iso\n",
        "}"
      ]
    },
    {
      "cell_type": "code",
      "execution_count": 13,
      "id": "e3256ab5-5f6c-439e-9e05-8916f4cc728b",
      "metadata": {
        "id": "e3256ab5-5f6c-439e-9e05-8916f4cc728b"
      },
      "outputs": [],
      "source": [
        "for i in data_dict:\n",
        "    if not type(data_dict[i]) is list:\n",
        "        data_dict[i] = data_dict[i].tolist()"
      ]
    },
    {
      "cell_type": "code",
      "execution_count": 14,
      "id": "1d7493f8-63b9-4db2-afa4-6962e8881a47",
      "metadata": {
        "id": "1d7493f8-63b9-4db2-afa4-6962e8881a47"
      },
      "outputs": [],
      "source": [
        "pd.DataFrame(data_dict).round(digits_round).to_csv('converted_meteorology_data.csv', index=False)"
      ]
    }
  ],
  "metadata": {
    "kernelspec": {
      "display_name": "Python 3 (ipykernel)",
      "language": "python",
      "name": "python3"
    },
    "language_info": {
      "codemirror_mode": {
        "name": "ipython",
        "version": 3
      },
      "file_extension": ".py",
      "mimetype": "text/x-python",
      "name": "python",
      "nbconvert_exporter": "python",
      "pygments_lexer": "ipython3",
      "version": "3.13.3"
    },
    "colab": {
      "provenance": [],
      "include_colab_link": true
    }
  },
  "nbformat": 4,
  "nbformat_minor": 5
}
