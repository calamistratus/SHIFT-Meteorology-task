{
  "cells": [
    {
      "cell_type": "markdown",
      "metadata": {
        "id": "view-in-github",
        "colab_type": "text"
      },
      "source": [
        "<a href=\"https://colab.research.google.com/github/calamistratus/SHIFT-Meteorology-task/blob/main/naive_conversion_clean.ipynb\" target=\"_parent\"><img src=\"https://colab.research.google.com/assets/colab-badge.svg\" alt=\"Open In Colab\"/></a>"
      ]
    },
    {
      "cell_type": "code",
      "execution_count": 152,
      "id": "d3dc8382-f664-4ba3-8050-03d798de4158",
      "metadata": {
        "id": "d3dc8382-f664-4ba3-8050-03d798de4158"
      },
      "outputs": [],
      "source": [
        "import requests\n",
        "import numpy as np\n",
        "import json\n",
        "import pandas as pd"
      ]
    },
    {
      "cell_type": "code",
      "execution_count": 153,
      "id": "b6af436e-fe8b-48f4-8174-ef49ee6d14c3",
      "metadata": {
        "colab": {
          "base_uri": "https://localhost:8080/"
        },
        "id": "b6af436e-fe8b-48f4-8174-ef49ee6d14c3",
        "outputId": "d43296f4-97cf-4d7a-b232-b230100f4965"
      },
      "outputs": [
        {
          "output_type": "stream",
          "name": "stdout",
          "text": [
            "Write the json request, if \"No\", the default request will be used\n",
            "To input custom data, write \"Date\"\n",
            "\n",
            "Success!\n"
          ]
        }
      ],
      "source": [
        "default_url = ('https://api.open-meteo.com/v1/forecast'\n",
        "            '?latitude=55.0344'\n",
        "            '&longitude=82.9434'\n",
        "            '&daily=sunrise,sunset,daylight_duration'\n",
        "            '&hourly=temperature_2m,relative_humidity_2m,dew_point_2m,apparent_temperature,temperature_80m,temperature_120m,wind_speed_10m,wind_speed_80m,wind_direction_10m,wind_direction_80m,visibility,evapotranspiration,weather_code,soil_temperature_0cm,soil_temperature_6cm,rain,showers,snowfall'\n",
        "            '&timezone=auto'\n",
        "            '&timeformat=unixtime'\n",
        "            '&wind_speed_unit=kn'\n",
        "            '&temperature_unit=fahrenheit'\n",
        "            '&precipitation_unit=inch')\n",
        "\n",
        "while True:   # Handle correct json request\n",
        "    url = input('Write the json request, if \"No\", the default request will be used\\nTo input custom data, write \"Date\"\\n')\n",
        "\n",
        "    if url == '' or url.lower() == 'no':    # Default url with default dates\n",
        "        url = default_url + '&start_date=2025-05-16' + '&end_date=2025-05-30'\n",
        "\n",
        "    elif url.lower() == 'date':   # Handle custon dates\n",
        "        url = input('Write the json requet without dates, if \"No\", the default request without dates will be used\\n')\n",
        "\n",
        "        if url == '' or url.lower() == 'no':    # Default url with custom dates\n",
        "            url = default_url\n",
        "\n",
        "        url += '&start_date=' + input('Write the start date in the format 2025-10-30\\n')\n",
        "        url += '&end_date=' + input('Write the end date in the format 2025-10-30\\n')\n",
        "\n",
        "    try:\n",
        "        responce = requests.get(url)\n",
        "        if responce.status_code == 200:   # Default succeess code\n",
        "            print('Success!')\n",
        "            break\n",
        "        else:\n",
        "            print('Something went wrong, status code:', responce.status_code)\n",
        "    except:\n",
        "        print('Invalid URL')\n",
        "    print()"
      ]
    },
    {
      "cell_type": "code",
      "source": [
        "print(url)"
      ],
      "metadata": {
        "colab": {
          "base_uri": "https://localhost:8080/"
        },
        "id": "1odENqRKpEyT",
        "outputId": "6ae4fd07-f905-40dd-d4dd-0a32eb663ba5"
      },
      "id": "1odENqRKpEyT",
      "execution_count": 154,
      "outputs": [
        {
          "output_type": "stream",
          "name": "stdout",
          "text": [
            "https://api.open-meteo.com/v1/forecast?latitude=55.0344&longitude=82.9434&daily=sunrise,sunset,daylight_duration&hourly=temperature_2m,relative_humidity_2m,dew_point_2m,apparent_temperature,temperature_80m,temperature_120m,wind_speed_10m,wind_speed_80m,wind_direction_10m,wind_direction_80m,visibility,evapotranspiration,weather_code,soil_temperature_0cm,soil_temperature_6cm,rain,showers,snowfall&timezone=auto&timeformat=unixtime&wind_speed_unit=kn&temperature_unit=fahrenheit&precipitation_unit=inch&start_date=2025-05-16&end_date=2025-05-30\n"
          ]
        }
      ]
    },
    {
      "cell_type": "code",
      "execution_count": 155,
      "id": "58707f42-705c-4c3e-9588-4a3271f42b2a",
      "metadata": {
        "id": "58707f42-705c-4c3e-9588-4a3271f42b2a"
      },
      "outputs": [],
      "source": [
        "data = responce.json()"
      ]
    },
    {
      "cell_type": "code",
      "execution_count": 156,
      "id": "cadbd6cb-a32d-4bf0-97ee-084801156b55",
      "metadata": {
        "id": "cadbd6cb-a32d-4bf0-97ee-084801156b55"
      },
      "outputs": [],
      "source": [
        "hourly_data = pd.DataFrame(data['hourly'])\n",
        "\n",
        "hourly_data['day_index'] = hourly_data.index // 24\n",
        "hourly_data['sunset'] = hourly_data['day_index'].map(lambda x: data['daily']['sunset'][x])\n",
        "hourly_data['sunrise'] = hourly_data['day_index'].map(lambda x: data['daily']['sunrise'][x])\n",
        "hourly_data['is_daylight'] = (hourly_data['time'] >= hourly_data['sunrise']) & (hourly_data['time'] <= hourly_data['sunset'])"
      ]
    },
    {
      "cell_type": "code",
      "execution_count": 157,
      "id": "eb405c21-541b-4f2a-aee8-d5d1fab82756",
      "metadata": {
        "colab": {
          "base_uri": "https://localhost:8080/"
        },
        "id": "eb405c21-541b-4f2a-aee8-d5d1fab82756",
        "outputId": "a285567c-e3b0-4988-ccfc-4c0a6548d227"
      },
      "outputs": [
        {
          "output_type": "stream",
          "name": "stdout",
          "text": [
            "time                      0\n",
            "temperature_2m            0\n",
            "relative_humidity_2m      0\n",
            "dew_point_2m              0\n",
            "apparent_temperature      0\n",
            "temperature_80m           0\n",
            "temperature_120m          0\n",
            "wind_speed_10m            0\n",
            "wind_speed_80m            0\n",
            "wind_direction_10m        0\n",
            "wind_direction_80m        0\n",
            "visibility                0\n",
            "evapotranspiration        0\n",
            "weather_code              0\n",
            "soil_temperature_0cm    138\n",
            "soil_temperature_6cm    138\n",
            "rain                      0\n",
            "showers                   0\n",
            "snowfall                  0\n",
            "day_index                 0\n",
            "sunset                    0\n",
            "sunrise                   0\n",
            "is_daylight               0\n",
            "dtype: int64\n",
            "\n",
            "NaNs will be replaced by a value of absolute zero in Celsius\n"
          ]
        }
      ],
      "source": [
        "print(hourly_data.isnull().sum())\n",
        "print('\\nNaNs will be replaced by a value of absolute zero in Celsius')\n",
        "\n",
        "absolute_zero = -273.15"
      ]
    },
    {
      "cell_type": "code",
      "execution_count": 158,
      "id": "00615d75-36d8-4d29-97ad-27f4519f18cc",
      "metadata": {
        "id": "00615d75-36d8-4d29-97ad-27f4519f18cc"
      },
      "outputs": [],
      "source": [
        "metrics_suffixes = ('_celsius', '_m_per_s', '_mm')\n",
        "filter_suffixes = ('_daylight', '_24h')\n",
        "operation_prefixes = ('avg_', 'total_')\n",
        "no_conversion = ('iso', 'humidity', 'hours')\n",
        "no_operation = ('iso', 'hours')\n",
        "\n",
        "def search_for(string, array):\n",
        "    for value in array:\n",
        "        if value in string:\n",
        "            return True\n",
        "    return False\n",
        "\n",
        "def clear_from(string, array):\n",
        "    for value in array:\n",
        "        string = string.replace(value, '')\n",
        "    return string"
      ]
    },
    {
      "cell_type": "code",
      "execution_count": 159,
      "id": "7a11f60e-faa1-460a-929d-412c74203d54",
      "metadata": {
        "id": "7a11f60e-faa1-460a-929d-412c74203d54"
      },
      "outputs": [],
      "source": [
        "def column_mean(column, filter_column=''):\n",
        "    if filter_column:\n",
        "        return hourly_data[[column, 'day_index']][hourly_data[filter_column]].groupby('day_index').mean()[column]\n",
        "    else:\n",
        "        return hourly_data.groupby('day_index').mean()[column]\n",
        "\n",
        "def column_sum(column, filter_column=''):\n",
        "    if filter_column:\n",
        "        return hourly_data[[column, 'day_index']][hourly_data[filter_column]].groupby('day_index').sum()[column]\n",
        "    else:\n",
        "        return hourly_data.groupby('day_index').sum()[column]\n",
        "\n",
        "def smart_column_operation(varname, filter_column):\n",
        "    column = clear_from(varname, [*metrics_suffixes, *filter_suffixes, *operation_prefixes])\n",
        "    print(varname, '/', column, '/', filter_column if filter_column else 'no filter column', end=' / ')\n",
        "    if search_for(varname, no_operation):\n",
        "        print('nothing')\n",
        "        return []\n",
        "\n",
        "    elif 'avg' in varname:\n",
        "        print('hmean')\n",
        "        return column_mean(column, filter_column)\n",
        "\n",
        "    elif 'total' in varname:\n",
        "        print('hsum')\n",
        "\n",
        "        return column_sum(column, filter_column)\n",
        "\n",
        "    else:\n",
        "        print('data')\n",
        "        return hourly_data[column]"
      ]
    },
    {
      "cell_type": "code",
      "execution_count": 160,
      "id": "e3f6c4da-dc89-4767-9d30-7f39680afc75",
      "metadata": {
        "id": "e3f6c4da-dc89-4767-9d30-7f39680afc75"
      },
      "outputs": [],
      "source": [
        "digits_round = 3\n",
        "\n",
        "def knots_to_meters_per_sec(knots):\n",
        "    return knots * 0.5144444444\n",
        "\n",
        "def fahrenheit_to_celsius(fahrenheit):\n",
        "    return (fahrenheit - 32) * 5 / 9\n",
        "\n",
        "def inches_to_mms(inches):\n",
        "    return inches * 25.4\n",
        "\n",
        "def feet_to_m(feet):\n",
        "    return feet * 0.3048\n",
        "\n",
        "def convert_to_days(col):\n",
        "    new_list = []\n",
        "    for i in range(0, len(col), 24):\n",
        "        new_list.append(col[i:i+24].round(digits_round))\n",
        "    return new_list\n",
        "\n",
        "def smart_metrics_convert(varname, value):\n",
        "    print(varname, end=' / ')\n",
        "    if search_for(varname, no_conversion):\n",
        "        print('nothing')\n",
        "\n",
        "        if type(value) is list:\n",
        "            return value\n",
        "        else:\n",
        "            value = value.fillna(-1)\n",
        "\n",
        "    elif 'temperature' in varname or 'dew_point' in varname:\n",
        "        print('celsius')\n",
        "        value = fahrenheit_to_celsius(value).fillna(absolute_zero)\n",
        "\n",
        "    elif 'speed' in varname:\n",
        "        print('m/s')\n",
        "        value = knots_to_meters_per_sec(value).fillna(-1)\n",
        "\n",
        "    elif 'visibility' in varname:\n",
        "        print('m')\n",
        "        value = feet_to_m(value).fillna(-1)\n",
        "\n",
        "    else:\n",
        "        print('mms')\n",
        "        value = inches_to_mms(value).fillna(-1)\n",
        "\n",
        "    return value.round(digits_round)"
      ]
    },
    {
      "cell_type": "code",
      "execution_count": 161,
      "id": "8fcc2a63-5604-4757-b7b8-c3e8be60db93",
      "metadata": {
        "id": "8fcc2a63-5604-4757-b7b8-c3e8be60db93"
      },
      "outputs": [],
      "source": [
        "data_dict = {\n",
        "    # Simple metrics per day\n",
        "        # Averages\n",
        "    \"avg_relative_humidity_2m_24h\": [],\n",
        "    \"avg_dew_point_2m_24h\": [],\n",
        "    \"avg_apparent_temperature_24h\": [],\n",
        "    \"avg_temperature_2m_24h\": [],\n",
        "    \"avg_temperature_80m_24h\": [],\n",
        "    \"avg_temperature_120m_24h\": [],\n",
        "    \"avg_wind_speed_10m_24h\": [],\n",
        "    \"avg_wind_speed_80m_24h\": [],\n",
        "    \"avg_visibility_24h\": [],\n",
        "\n",
        "        # Sums\n",
        "    \"total_rain_24h\": [],\n",
        "    \"total_showers_24h\": [],\n",
        "    \"total_snowfall_24h\": [],\n",
        "\n",
        "    # Simple metrics per day during daylight\n",
        "    \"daylight_hours\": [],\n",
        "        # Averages\n",
        "    \"avg_relative_humidity_2m_daylight\": [],\n",
        "    \"avg_dew_point_2m_daylight\": [],\n",
        "    \"avg_apparent_temperature_daylight\": [],\n",
        "    \"avg_temperature_2m_daylight\": [],\n",
        "    \"avg_temperature_80m_daylight\": [],\n",
        "    \"avg_temperature_120m_daylight\": [],\n",
        "    \"avg_visibility_daylight\": [],\n",
        "    \"avg_wind_speed_10m_daylight\": [],\n",
        "    \"avg_wind_speed_80m_daylight\": [],\n",
        "        # Sums\n",
        "    \"total_rain_daylight\": [],\n",
        "    \"total_showers_daylight\": [],\n",
        "    \"total_snowfall_daylight\": [],\n",
        "\n",
        "    # Converted hourly metrics\n",
        "        # Speed\n",
        "    \"wind_speed_10m_m_per_s\": [],\n",
        "    \"wind_speed_80m_m_per_s\": [],\n",
        "        # Temperature\n",
        "    \"temperature_2m_celsius\": [],\n",
        "    \"apparent_temperature_celsius\": [],\n",
        "    \"temperature_80m_celsius\": [],\n",
        "    \"temperature_120m_celsius\": [],\n",
        "    \"soil_temperature_0cm_celsius\": [],\n",
        "    \"soil_temperature_6cm_celsius\": [],\n",
        "        # Water\n",
        "    \"rain_mm\": [],\n",
        "    \"showers_mm\": [],\n",
        "    \"snowfall_mm\": [],\n",
        "\n",
        "    # ISO dates\n",
        "    \"sunset_iso\": [],\n",
        "    \"sunrise_iso\": []\n",
        "}"
      ]
    },
    {
      "cell_type": "code",
      "execution_count": 162,
      "id": "257e41b0-d52e-4ece-aefb-bb0c82dddec5",
      "metadata": {
        "scrolled": true,
        "colab": {
          "base_uri": "https://localhost:8080/"
        },
        "id": "257e41b0-d52e-4ece-aefb-bb0c82dddec5",
        "outputId": "fc542bf1-7859-4b4d-cd45-d0686184091a"
      },
      "outputs": [
        {
          "output_type": "stream",
          "name": "stdout",
          "text": [
            "avg_relative_humidity_2m_24h / relative_humidity_2m / no filter column / hmean\n",
            "avg_relative_humidity_2m_24h / nothing\n",
            "\n",
            "\n",
            "avg_dew_point_2m_24h / dew_point_2m / no filter column / hmean\n",
            "avg_dew_point_2m_24h / celsius\n",
            "\n",
            "\n",
            "avg_apparent_temperature_24h / apparent_temperature / no filter column / hmean\n",
            "avg_apparent_temperature_24h / celsius\n",
            "\n",
            "\n",
            "avg_temperature_2m_24h / temperature_2m / no filter column / hmean\n",
            "avg_temperature_2m_24h / celsius\n",
            "\n",
            "\n",
            "avg_temperature_80m_24h / temperature_80m / no filter column / hmean\n",
            "avg_temperature_80m_24h / celsius\n",
            "\n",
            "\n",
            "avg_temperature_120m_24h / temperature_120m / no filter column / hmean\n",
            "avg_temperature_120m_24h / celsius\n",
            "\n",
            "\n",
            "avg_wind_speed_10m_24h / wind_speed_10m / no filter column / hmean\n",
            "avg_wind_speed_10m_24h / m/s\n",
            "\n",
            "\n",
            "avg_wind_speed_80m_24h / wind_speed_80m / no filter column / hmean\n",
            "avg_wind_speed_80m_24h / m/s\n",
            "\n",
            "\n",
            "avg_visibility_24h / visibility / no filter column / hmean\n",
            "avg_visibility_24h / m\n",
            "\n",
            "\n",
            "total_rain_24h / rain / no filter column / hsum\n",
            "total_rain_24h / mms\n",
            "\n",
            "\n",
            "total_showers_24h / showers / no filter column / hsum\n",
            "total_showers_24h / mms\n",
            "\n",
            "\n",
            "total_snowfall_24h / snowfall / no filter column / hsum\n",
            "total_snowfall_24h / mms\n",
            "\n",
            "\n",
            "daylight_hours / daylight_hours / is_daylight / nothing\n",
            "daylight_hours / nothing\n",
            "\n",
            "\n",
            "avg_relative_humidity_2m_daylight / relative_humidity_2m / is_daylight / hmean\n",
            "avg_relative_humidity_2m_daylight / nothing\n",
            "\n",
            "\n",
            "avg_dew_point_2m_daylight / dew_point_2m / is_daylight / hmean\n",
            "avg_dew_point_2m_daylight / celsius\n",
            "\n",
            "\n",
            "avg_apparent_temperature_daylight / apparent_temperature / is_daylight / hmean\n",
            "avg_apparent_temperature_daylight / celsius\n",
            "\n",
            "\n",
            "avg_temperature_2m_daylight / temperature_2m / is_daylight / hmean\n",
            "avg_temperature_2m_daylight / celsius\n",
            "\n",
            "\n",
            "avg_temperature_80m_daylight / temperature_80m / is_daylight / hmean\n",
            "avg_temperature_80m_daylight / celsius\n",
            "\n",
            "\n",
            "avg_temperature_120m_daylight / temperature_120m / is_daylight / hmean\n",
            "avg_temperature_120m_daylight / celsius\n",
            "\n",
            "\n",
            "avg_visibility_daylight / visibility / is_daylight / hmean\n",
            "avg_visibility_daylight / m\n",
            "\n",
            "\n",
            "avg_wind_speed_10m_daylight / wind_speed_10m / is_daylight / hmean\n",
            "avg_wind_speed_10m_daylight / m/s\n",
            "\n",
            "\n",
            "avg_wind_speed_80m_daylight / wind_speed_80m / is_daylight / hmean\n",
            "avg_wind_speed_80m_daylight / m/s\n",
            "\n",
            "\n",
            "total_rain_daylight / rain / is_daylight / hsum\n",
            "total_rain_daylight / mms\n",
            "\n",
            "\n",
            "total_showers_daylight / showers / is_daylight / hsum\n",
            "total_showers_daylight / mms\n",
            "\n",
            "\n",
            "total_snowfall_daylight / snowfall / is_daylight / hsum\n",
            "total_snowfall_daylight / mms\n",
            "\n",
            "\n",
            "wind_speed_10m_m_per_s / wind_speed_10m / no filter column / data\n",
            "wind_speed_10m_m_per_s / m/s\n",
            "converted to days\n",
            "\n",
            "wind_speed_80m_m_per_s / wind_speed_80m / no filter column / data\n",
            "wind_speed_80m_m_per_s / m/s\n",
            "converted to days\n",
            "\n",
            "temperature_2m_celsius / temperature_2m / no filter column / data\n",
            "temperature_2m_celsius / celsius\n",
            "converted to days\n",
            "\n",
            "apparent_temperature_celsius / apparent_temperature / no filter column / data\n",
            "apparent_temperature_celsius / celsius\n",
            "converted to days\n",
            "\n",
            "temperature_80m_celsius / temperature_80m / no filter column / data\n",
            "temperature_80m_celsius / celsius\n",
            "converted to days\n",
            "\n",
            "temperature_120m_celsius / temperature_120m / no filter column / data\n",
            "temperature_120m_celsius / celsius\n",
            "converted to days\n",
            "\n",
            "soil_temperature_0cm_celsius / soil_temperature_0cm / no filter column / data\n",
            "soil_temperature_0cm_celsius / celsius\n",
            "converted to days\n",
            "\n",
            "soil_temperature_6cm_celsius / soil_temperature_6cm / no filter column / data\n",
            "soil_temperature_6cm_celsius / celsius\n",
            "converted to days\n",
            "\n",
            "rain_mm / rain / no filter column / data\n",
            "rain_mm / mms\n",
            "converted to days\n",
            "\n",
            "showers_mm / showers / no filter column / data\n",
            "showers_mm / mms\n",
            "converted to days\n",
            "\n",
            "snowfall_mm / snowfall / no filter column / data\n",
            "snowfall_mm / mms\n",
            "converted to days\n",
            "\n",
            "sunset_iso / sunset_iso / no filter column / nothing\n",
            "sunset_iso / nothing\n",
            "\n",
            "\n",
            "sunrise_iso / sunrise_iso / no filter column / nothing\n",
            "sunrise_iso / nothing\n",
            "\n",
            "\n"
          ]
        }
      ],
      "source": [
        "for varname in data_dict:\n",
        "    filter_column = 'is_daylight' if 'daylight' in varname else ''\n",
        "\n",
        "    data_dict[varname] = smart_metrics_convert(varname, smart_column_operation(varname, filter_column))\n",
        "\n",
        "    if search_for(varname, metrics_suffixes):\n",
        "        data_dict[varname] = convert_to_days(data_dict[varname])\n",
        "        print('converted to days')\n",
        "    else:\n",
        "        print()\n",
        "    print()"
      ]
    },
    {
      "cell_type": "code",
      "execution_count": 163,
      "id": "f30827e8-5658-4ef6-a2e4-95af1a94be69",
      "metadata": {
        "id": "f30827e8-5658-4ef6-a2e4-95af1a94be69"
      },
      "outputs": [],
      "source": [
        "na_fill_iso = pd.to_datetime(0, unit='s', origin='unix').tz_localize(data['timezone']).isoformat()\n",
        "\n",
        "for i in ('sunset', 'sunrise'):\n",
        "    data_dict[i + '_iso'] = pd.to_datetime(pd.Series(data['daily'][i]), unit='s', origin='unix').apply(lambda x: x.tz_localize(data['timezone']).isoformat()).fillna(na_fill_iso)\n",
        "\n",
        "data_dict['daylight_hours'] = ((pd.Series(data['daily']['sunset']) - np.array(data['daily']['sunrise'])) / 3600).fillna(-1)"
      ]
    },
    {
      "cell_type": "code",
      "execution_count": 164,
      "id": "e3256ab5-5f6c-439e-9e05-8916f4cc728b",
      "metadata": {
        "id": "e3256ab5-5f6c-439e-9e05-8916f4cc728b"
      },
      "outputs": [],
      "source": [
        "for i in data_dict:\n",
        "    if not type(data_dict[i]) is list:\n",
        "        data_dict[i] = data_dict[i].tolist()"
      ]
    },
    {
      "cell_type": "code",
      "execution_count": 165,
      "id": "1d7493f8-63b9-4db2-afa4-6962e8881a47",
      "metadata": {
        "id": "1d7493f8-63b9-4db2-afa4-6962e8881a47"
      },
      "outputs": [],
      "source": [
        "pd.DataFrame(data_dict).to_csv('converted_meteorology_data.csv', index=False)"
      ]
    }
  ],
  "metadata": {
    "colab": {
      "provenance": [],
      "include_colab_link": true
    },
    "kernelspec": {
      "display_name": "Python 3 (ipykernel)",
      "language": "python",
      "name": "python3"
    },
    "language_info": {
      "codemirror_mode": {
        "name": "ipython",
        "version": 3
      },
      "file_extension": ".py",
      "mimetype": "text/x-python",
      "name": "python",
      "nbconvert_exporter": "python",
      "pygments_lexer": "ipython3",
      "version": "3.13.3"
    }
  },
  "nbformat": 4,
  "nbformat_minor": 5
}